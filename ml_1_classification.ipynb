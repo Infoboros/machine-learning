{
 "cells": [
  {
   "cell_type": "markdown",
   "source": [
    "# М1 Линейные классификаторы\n",
    "    выполнил Сергей Харитонов МИВТ-221\n",
    "\n",
    "# Задание\n",
    "используя разбиение в на 2 кластера в задании Б1, построить дискриминантную функцию Фишер\n"
   ],
   "metadata": {
    "collapsed": false
   }
  },
  {
   "cell_type": "code",
   "execution_count": 1,
   "outputs": [],
   "source": [
    "import pandas as pd\n",
    "import numpy as np\n",
    "import matplotlib.pyplot as plt\n",
    "\n",
    "# Константы для визуализации кластеров\n",
    "CLUSTERS = [\n",
    "    # (color, sign)\n",
    "    ('lightgreen', 's'),\n",
    "    ('lightblue', 'v'),\n",
    "]"
   ],
   "metadata": {
    "collapsed": false
   }
  },
  {
   "cell_type": "code",
   "execution_count": 2,
   "outputs": [
    {
     "name": "stdout",
     "output_type": "stream",
     "text": [
      "       car_prob  customer_psy\n",
      "4             7            10\n",
      "8             5             7\n",
      "13            6             9\n",
      "15            7             7\n",
      "16            5             9\n",
      "...         ...           ...\n",
      "34982         1            10\n",
      "34987         8             4\n",
      "34990         8             9\n",
      "34995         9             7\n",
      "34996         5             6\n",
      "\n",
      "[12480 rows x 2 columns]\n",
      "       car_prob  customer_psy\n",
      "0             1             2\n",
      "1             3             5\n",
      "2             1             3\n",
      "3             2             2\n",
      "5             1             2\n",
      "...         ...           ...\n",
      "34993         2             2\n",
      "34994         2             7\n",
      "34997         3             3\n",
      "34998         1             2\n",
      "34999         5             4\n",
      "\n",
      "[22520 rows x 2 columns]\n",
      "Количество записей: 35000\n",
      "Первого класса: 12480\n",
      "Второго класса: 22520\n"
     ]
    }
   ],
   "source": [
    "# Загрузка данных в память\n",
    "data = pd.read_csv('clustered_data.csv')\n",
    "\n",
    "# Разделение на тестовую и тренировочную выборки\n",
    "test_count = 5000\n",
    "border = len(data)-test_count\n",
    "\n",
    "test_data = data[border:]\n",
    "data = data[:border]\n",
    "\n",
    "# Фильтруем по типам кластеров и убираем колонку с метками кластеров\n",
    "first_cluster = data[data.cluster == 0][['car_prob', 'customer_psy']]\n",
    "second_cluster = data[data.cluster == 1][['car_prob', 'customer_psy']]\n",
    "\n",
    "print(first_cluster)\n",
    "print(second_cluster)\n",
    "\n",
    "print(f'Количество записей: {len(data)}')\n",
    "print(f'Первого класса: {len(first_cluster)}')\n",
    "print(f'Второго класса: {len(second_cluster)}')\n"
   ],
   "metadata": {
    "collapsed": false
   }
  },
  {
   "cell_type": "code",
   "execution_count": 3,
   "outputs": [
    {
     "data": {
      "text/plain": "<Figure size 640x480 with 1 Axes>",
      "image/png": "[encoded data removed]"
     },
     "metadata": {},
     "output_type": "display_data"
    }
   ],
   "source": [
    "# Визуализация\n",
    "def show_data():\n",
    "    for index, cluster in enumerate([first_cluster, second_cluster]):\n",
    "        color, sign = CLUSTERS[index]\n",
    "        plt.scatter(\n",
    "            cluster['car_prob'],\n",
    "            cluster['customer_psy'],\n",
    "            s=50,\n",
    "            marker=sign,\n",
    "            c=color,\n",
    "            label=f'Кластер {index + 1}'\n",
    "        )\n",
    "    plt.xlabel('Покупательская способность')\n",
    "    plt.ylabel('Психотип покупателя')\n",
    "    plt.legend()\n",
    "    plt.grid()\n",
    "\n",
    "\n",
    "show_data()"
   ],
   "metadata": {
    "collapsed": false
   }
  },
  {
   "cell_type": "code",
   "execution_count": 4,
   "outputs": [
    {
     "name": "stdout",
     "output_type": "stream",
     "text": [
      "              car_prob  customer_psy\n",
      "car_prob      6.653465      2.661634\n",
      "customer_psy  2.661634      6.191977\n",
      "[[ 0.18150943 -0.0780222 ]\n",
      " [-0.0780222   0.19503732]]\n"
     ]
    }
   ],
   "source": [
    "#вычисляем ковариационную матрицу\n",
    "A = data[['car_prob', 'customer_psy']].cov()\n",
    "#вычисляем обратную к ковариационной\n",
    "B = np.linalg.inv(A)\n",
    "\n",
    "print(A)\n",
    "print(B)"
   ],
   "metadata": {
    "collapsed": false
   }
  },
  {
   "cell_type": "code",
   "execution_count": 5,
   "outputs": [
    {
     "name": "stdout",
     "output_type": "stream",
     "text": [
      "car_prob        6.000481\n",
      "customer_psy    7.108333\n",
      "dtype: float64\n",
      "car_prob        2.104485\n",
      "customer_psy    3.279751\n",
      "dtype: float64\n"
     ]
    }
   ],
   "source": [
    "#вычисление векторов средних для каждого класса\n",
    "mean_1 = first_cluster.mean()\n",
    "mean_2 = second_cluster.mean()\n",
    "print(mean_1)\n",
    "print(mean_2)"
   ],
   "metadata": {
    "collapsed": false
   }
  },
  {
   "cell_type": "code",
   "execution_count": 6,
   "outputs": [
    {
     "name": "stdout",
     "output_type": "stream",
     "text": [
      "car_prob        3.895996\n",
      "customer_psy    3.828582\n",
      "dtype: float64\n"
     ]
    }
   ],
   "source": [
    "#вектор разности средних\n",
    "m = mean_1 - mean_2\n",
    "print(m)"
   ],
   "metadata": {
    "collapsed": false
   }
  },
  {
   "cell_type": "code",
   "execution_count": 7,
   "outputs": [
    {
     "name": "stdout",
     "output_type": "stream",
     "text": [
      "[0.40844559 0.44274219]\n"
     ]
    }
   ],
   "source": [
    "#коэффициенты функции Фишера\n",
    "a = B.dot(m)\n",
    "print(a)"
   ],
   "metadata": {
    "collapsed": false
   }
  },
  {
   "cell_type": "code",
   "execution_count": 8,
   "outputs": [
    {
     "name": "stdout",
     "output_type": "stream",
     "text": [
      "5.598028975898711\n",
      "2.31165186670246\n"
     ]
    }
   ],
   "source": [
    "#Функция Фишера: z=0.4x+0.44y\n",
    "#вычисляем значения функции Фишера в центрах классов\n",
    "e1 = a.dot(mean_1)\n",
    "e2 = a.dot(mean_2)\n",
    "print(e1)\n",
    "print(e2)"
   ],
   "metadata": {
    "collapsed": false
   }
  },
  {
   "cell_type": "code",
   "execution_count": 9,
   "outputs": [
    {
     "name": "stdout",
     "output_type": "stream",
     "text": [
      "3.9548404213005854\n"
     ]
    }
   ],
   "source": [
    "#вычисляем порог а_0\n",
    "a_0 = (e1 + e2) / 2\n",
    "print(a_0)"
   ],
   "metadata": {
    "collapsed": false
   }
  },
  {
   "cell_type": "code",
   "execution_count": 10,
   "outputs": [
    {
     "name": "stdout",
     "output_type": "stream",
     "text": [
      "0.4084455878684943 0.4427421918804204 3.9548404213005854\n"
     ]
    }
   ],
   "source": [
    "#визуализация: прямая 0.4x+0.44y=3.95, т.е. y=(-0.4x + 3.95) / 0.44\n",
    "def F(x):\n",
    "    return (-a[0] * x + a_0) / a[1]\n",
    "print(a[0], a[1], a_0)"
   ],
   "metadata": {
    "collapsed": false
   }
  },
  {
   "cell_type": "code",
   "execution_count": 11,
   "outputs": [
    {
     "data": {
      "text/plain": "<Figure size 640x480 with 1 Axes>",
      "image/png": "[encoded data removed]"
     },
     "metadata": {},
     "output_type": "display_data"
    }
   ],
   "source": [
    "show_data()\n",
    "\n",
    "Xs = [0.0, 10.0]\n",
    "#Значения дискриминантной функции фишера в точках\n",
    "Ys = list(map(F, Xs))\n",
    "#рисую прямую\n",
    "plt.plot(Xs, Ys)\n",
    "plt.show()"
   ],
   "metadata": {
    "collapsed": false
   }
  },
  {
   "cell_type": "code",
   "execution_count": 12,
   "outputs": [
    {
     "name": "stdout",
     "output_type": "stream",
     "text": [
      "       car_prob  customer_psy  cluster  F_clusters\n",
      "0             1             2        1           1\n",
      "1             3             5        1           1\n",
      "2             1             3        1           1\n",
      "3             2             2        1           1\n",
      "4             7            10        0           0\n",
      "...         ...           ...      ...         ...\n",
      "34995         9             7        0           0\n",
      "34996         5             6        0           0\n",
      "34997         3             3        1           1\n",
      "34998         1             2        1           1\n",
      "34999         5             4        1           1\n",
      "\n",
      "[35000 rows x 4 columns]\n",
      "       car_prob  customer_psy  cluster  F_clusters\n",
      "35000         3             5        1           1\n",
      "35001         2             2        1           1\n",
      "35002         2             2        1           1\n",
      "35003         2             3        1           1\n",
      "35004         1             3        1           1\n",
      "...         ...           ...      ...         ...\n",
      "39995         3             3        1           1\n",
      "39996         1             9        0           0\n",
      "39997         4             6        0           0\n",
      "39998         2             5        1           1\n",
      "39999         1             2        1           1\n",
      "\n",
      "[5000 rows x 4 columns]\n"
     ]
    }
   ],
   "source": [
    "# Проверка качества\n",
    "def F_clussification(row):\n",
    "    return 0 if a.dot(row[1]) > a_0 else 1\n",
    "\n",
    "clussified_data = data.assign(\n",
    "    F_clusters = list(\n",
    "        map(\n",
    "            F_clussification,\n",
    "            data[['car_prob', 'customer_psy']].iterrows()\n",
    "        )\n",
    "    )\n",
    ")\n",
    "clussified_test_data = test_data.assign(\n",
    "    F_clusters = list(\n",
    "        map(\n",
    "            F_clussification,\n",
    "            test_data[['car_prob', 'customer_psy']].iterrows()\n",
    "        )\n",
    "    )\n",
    ")\n",
    "\n",
    "print(clussified_data)\n",
    "print(clussified_test_data)"
   ],
   "metadata": {
    "collapsed": false
   }
  },
  {
   "cell_type": "code",
   "execution_count": 13,
   "outputs": [
    {
     "name": "stdout",
     "output_type": "stream",
     "text": [
      "Количество ошибок на тренировочной выборке: 0\n",
      "Количество ошибок на тестовой выборке: 0\n"
     ]
    }
   ],
   "source": [
    "def count_delta(_data):\n",
    "    return sum(\n",
    "        map(\n",
    "            lambda row: 1 if row[1]['cluster'] != row[1]['F_clusters'] else 0,\n",
    "            clussified_test_data.iterrows()\n",
    "        )\n",
    "    )\n",
    "\n",
    "print(f'Количество ошибок на тренировочной выборке: {count_delta(clussified_data)}')\n",
    "print(f'Количество ошибок на тестовой выборке: {count_delta(clussified_test_data)}')"
   ],
   "metadata": {
    "collapsed": false
   }
  },
  {
   "cell_type": "markdown",
   "source": [
    "# Вывод\n",
    "Исходя из рещультатов классификации следует,что дискриминантная функция Фишера была найдена верно.\n"
   ],
   "metadata": {
    "collapsed": false
   }
  },
  {
   "cell_type": "code",
   "execution_count": null,
   "outputs": [],
   "source": [],
   "metadata": {
    "collapsed": false
   }
  }
 ],
 "metadata": {
  "kernelspec": {
   "display_name": "Python 3",
   "language": "python",
   "name": "python3"
  },
  "language_info": {
   "codemirror_mode": {
    "name": "ipython",
    "version": 2
   },
   "file_extension": ".py",
   "mimetype": "text/x-python",
   "name": "python",
   "nbconvert_exporter": "python",
   "pygments_lexer": "ipython2",
   "version": "2.7.6"
  }
 },
 "nbformat": 4,
 "nbformat_minor": 0
}
